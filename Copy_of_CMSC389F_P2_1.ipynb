{
  "nbformat": 4,
  "nbformat_minor": 0,
  "metadata": {
    "colab": {
      "name": "Copy of CMSC389F_P2-1.ipynb",
      "provenance": [],
      "include_colab_link": true
    },
    "kernelspec": {
      "name": "python3",
      "display_name": "Python 3"
    },
    "language_info": {
      "name": "python"
    }
  },
  "cells": [
    {
      "cell_type": "markdown",
      "metadata": {
        "id": "view-in-github",
        "colab_type": "text"
      },
      "source": [
        "<a href=\"https://colab.research.google.com/github/DukeOfHounds/CMSCSRepo/blob/main/Copy_of_CMSC389F_P2_1.ipynb\" target=\"_parent\"><img src=\"https://colab.research.google.com/assets/colab-badge.svg\" alt=\"Open In Colab\"/></a>"
      ]
    },
    {
      "cell_type": "code",
      "execution_count": null,
      "metadata": {
        "id": "yooNpU4sOy8H"
      },
      "outputs": [],
      "source": [
        "import gym \n",
        "import numpy as np"
      ]
    },
    {
      "cell_type": "code",
      "source": [
        "# iterates on values 1000 times\n",
        "def value_iteration(values, gamma): \n",
        "  for i in range(1000): \n",
        "    old_vals = np.copy(values)\n",
        "\n",
        "    # TODO (implement value iteration)\n",
        "    \n",
        "  return values"
      ],
      "metadata": {
        "id": "uo-uoWzFQagX"
      },
      "execution_count": null,
      "outputs": []
    },
    {
      "cell_type": "code",
      "source": [
        "def get_policy(values, gamma, policy):\n",
        "  for s in range(env.observation_space.n): \n",
        "    q = np.zeros(env.action_space.n)\n",
        "\n",
        "    for a in range(env.action_space.n): \n",
        "      for neighbor in env.env.P[s][a]:\n",
        "        prob, s_prime, reward, _ = neighbor\n",
        "        q[a] += (prob * (reward + gamma * values[s_prime]))\n",
        "\n",
        "    policy[s] = np.argmax(q)\n",
        "    \n",
        "  return policy"
      ],
      "metadata": {
        "id": "pMdwCLCARLvw"
      },
      "execution_count": null,
      "outputs": []
    },
    {
      "cell_type": "code",
      "source": [
        "env = gym.make('FrozenLake-v0')\n",
        "\n",
        "gamma = 1\n",
        "values = np.zeros(env.observation_space.n)\n",
        "policy = np.zeros(env.observation_space.n)\n",
        "\n",
        "values = value_iteration(values, gamma);\n",
        "policy = get_policy(values, gamma, policy);"
      ],
      "metadata": {
        "id": "ZhnyoU6rO9H5"
      },
      "execution_count": null,
      "outputs": []
    },
    {
      "cell_type": "code",
      "source": [
        "total_reward = 0\n",
        "\n",
        "for i in range(1000):\n",
        "\tobs = env.reset()\n",
        "\ttotal_reward = 0\n",
        "\n",
        "\twhile True:\n",
        "\t    action = policy[obs]\n",
        "\t    obs, reward, done, info = env.step(action)\n",
        "\t\t \n",
        "\t    if done:\n",
        "\t    \ttotal_reward += reward\n",
        "\t    \tbreak\n",
        "      \n",
        "print(\"Average reward: \", total_reward / 1000)"
      ],
      "metadata": {
        "id": "H1UGX-vxPDRz"
      },
      "execution_count": null,
      "outputs": []
    }
  ]
}